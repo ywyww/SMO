{
 "cells": [
  {
   "cell_type": "markdown",
   "metadata": {},
   "source": [
    "# SMO"
   ]
  },
  {
   "cell_type": "code",
   "execution_count": null,
   "metadata": {},
   "outputs": [
    {
     "ename": "IndentationError",
     "evalue": "expected an indented block after 'else' statement on line 70 (3674917708.py, line 71)",
     "output_type": "error",
     "traceback": [
      "  \u001b[36mCell\u001b[39m\u001b[36m \u001b[39m\u001b[32mIn[2]\u001b[39m\u001b[32m, line 71\u001b[39m\n\u001b[31m    \u001b[39m\u001b[31mpool_queue_data.append((req_sum, min_time))\u001b[39m\n    ^\n\u001b[31mIndentationError\u001b[39m\u001b[31m:\u001b[39m expected an indented block after 'else' statement on line 70\n"
     ]
    }
   ],
   "source": [
    "import matplotlib.pyplot as plt\n",
    "import numpy as np\n",
    "import math\n",
    "import random\n",
    "import time\n",
    "\n",
    "LAMBDA = 10\n",
    "M1 = 5\n",
    "M2 = 5\n",
    "SCALE = 100\n",
    "\n",
    "fig, [pool_request, pool_s \tОглавление \t\n",
    "Нач. \t  \tОгл. \t  \tАвт. \t  \tЛ 01 \t  \tЛ 02 \t  \tЛ 03 \t  \tЛ 04\n",
    "Практикerve1, pool_serve2, pool_queue, pool_served, pool_refused] = plt.subplots(6, 1)\n",
    "\n",
    "def get_tau(constant, scale):\n",
    "    rval = np.random.rand()\n",
    "    req_tau = (-1 / constant) * math.log(rval) * scale\n",
    "    return req_tau\n",
    "\n",
    "\n",
    "def get_tau_with_restrictions(prev_tau, constant, scale):\n",
    "    req_tau = 0\n",
    "    while (req_tau < 1 or abs(prev_tau - req_tau) < 1):\n",
    "        req_tau = get_tau(constant, scale)\n",
    "\n",
    "    return req_tau\n",
    "\n",
    "\n",
    "serve1_free = True\n",
    "serve2_free = True\n",
    "\n",
    "pool_request_data = []\n",
    "pool_serve1_data = []\n",
    "pool_serve2_data = []\n",
    "pool_queue_data = []\n",
    "\n",
    "\n",
    "served_cnt = 0\n",
    "\n",
    "req_tau = 0\n",
    "req_sum = 0                      # request\n",
    "prev_tau_req = 0\n",
    "\n",
    "tau_serve1 = 0\n",
    "tau_serve2 = 0\n",
    "prev_tau_serve1 = 0\n",
    "prev_tau_serve2 = 0\n",
    "\n",
    "\n",
    "while (req_sum < 600):\n",
    "    prev_tau_req = req_tau\n",
    "    req_tau = get_tau_with_restrictions(prev_tau_req, LAMBDA, SCALE)\n",
    "\n",
    "    pool_request_data.append((req_sum, 2))\n",
    "\n",
    "    if (serve1_free):\n",
    "        prev_tau_serve1 = tau_serve1\n",
    "        tau_serve1 = get_tau_with_restrictions(prev_tau_serve1, M1, SCALE)\n",
    "        pool_serve1_data.append((req_sum, tau_serve1))\n",
    "        serve1_free = False\n",
    "\n",
    "    elif (serve2_free):\n",
    "        prev_tau_serve2 = tau_serve2\n",
    "        tau_serve2 = get_tau_with_restrictions(prev_tau_serve2, M2, SCALE)\n",
    "        pool_serve2_data.append((req_sum, tau_serve2))\n",
    "        serve2_free = False\n",
    "    else:                                                   # ...\n",
    "        if (serve1_free[-1] >= serve2_free[-1]):\n",
    "            req_tau\n",
    "\n",
    "        else:\n",
    "        pool_queue_data.append((req_sum, min_time))\n",
    "\n",
    "        # мы на req_sum, нужно найти след. время\n",
    "        #        \n",
    "    \n",
    "    # здесь написать обработку машин (вывод из ...)\n",
    "\n",
    "    req_sum += req_tau \n",
    "    ...\n",
    "    \n",
    "\n",
    "\n",
    "pool_request.broken_barh(pool_request_data, (0.2, 1))\n",
    "print(pool_request_data)\n",
    "\n",
    "plt.show()"
   ]
  },
  {
   "cell_type": "code",
   "execution_count": null,
   "metadata": {},
   "outputs": [],
   "source": []
  }
 ],
 "metadata": {
  "kernelspec": {
   "display_name": "venv",
   "language": "python",
   "name": "python3"
  },
  "language_info": {
   "codemirror_mode": {
    "name": "ipython",
    "version": 3
   },
   "file_extension": ".py",
   "mimetype": "text/x-python",
   "name": "python",
   "nbconvert_exporter": "python",
   "pygments_lexer": "ipython3",
   "version": "3.12.3"
  }
 },
 "nbformat": 4,
 "nbformat_minor": 2
}
